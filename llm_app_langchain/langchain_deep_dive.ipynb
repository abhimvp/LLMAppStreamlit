{
 "cells": [
  {
   "cell_type": "markdown",
   "id": "a0ac3701",
   "metadata": {},
   "source": [
    "# Deep Dive into Langchain"
   ]
  },
  {
   "cell_type": "code",
   "execution_count": 2,
   "id": "1ac20f35",
   "metadata": {},
   "outputs": [
    {
     "name": "stdout",
     "output_type": "stream",
     "text": [
      "Welcome to learn Python_Langchain\n",
      "This is a test for Langchain\n"
     ]
    }
   ],
   "source": [
    "msg = \"Welcome to learn Python_Langchain\"\n",
    "print(msg)\n",
    "print(\"This is a test for Langchain\")"
   ]
  },
  {
   "cell_type": "code",
   "execution_count": 3,
   "id": "5ef33ea8",
   "metadata": {},
   "outputs": [
    {
     "name": "stdout",
     "output_type": "stream",
     "text": [
      "Name: langchain\n",
      "Version: 0.3.23\n",
      "Summary: Building applications with LLMs through composability\n",
      "Home-page: \n",
      "Author: \n",
      "Author-email: \n",
      "License: MIT\n",
      "Location: c:\\Users\\abhis\\Desktop\\AIAgents\\LLMAppStreamlit\\env\\Lib\\site-packages\n",
      "Requires: langchain-core, langchain-text-splitters, langsmith, pydantic, PyYAML, requests, SQLAlchemy\n",
      "Required-by: \n",
      "---\n",
      "Name: langchain\n",
      "Version: 0.3.23\n",
      "Summary: Building applications with LLMs through composability\n",
      "Home-page: \n",
      "Author: \n",
      "Author-email: \n",
      "License: MIT\n",
      "Location: c:\\Users\\abhis\\Desktop\\AIAgents\\LLMAppStreamlit\\env\\Lib\\site-packages\n",
      "Requires: langchain-core, langchain-text-splitters, langsmith, pydantic, PyYAML, requests, SQLAlchemy\n",
      "Required-by: \n",
      "Note: you may need to restart the kernel to use updated packages.\n"
     ]
    },
    {
     "name": "stderr",
     "output_type": "stream",
     "text": [
      "WARNING: Package(s) not found: #, check, installed, is, to, whether\n"
     ]
    }
   ],
   "source": [
    "pip show langchain # to check whether langchain is installed"
   ]
  },
  {
   "cell_type": "code",
   "execution_count": 4,
   "id": "ccee80d2",
   "metadata": {},
   "outputs": [
    {
     "name": "stdout",
     "output_type": "stream",
     "text": [
      "Name: langchain-google-genai\n",
      "Version: 2.1.2\n",
      "Summary: An integration package connecting Google's genai package and LangChain\n",
      "Home-page: https://github.com/langchain-ai/langchain-google\n",
      "Author: \n",
      "Author-email: \n",
      "License: MIT\n",
      "Location: c:\\Users\\abhis\\Desktop\\AIAgents\\LLMAppStreamlit\\env\\Lib\\site-packages\n",
      "Requires: filetype, google-ai-generativelanguage, langchain-core, pydantic\n",
      "Required-by: \n",
      "Note: you may need to restart the kernel to use updated packages.\n"
     ]
    }
   ],
   "source": [
    "pip show langchain-google-genai"
   ]
  },
  {
   "cell_type": "markdown",
   "id": "08182837",
   "metadata": {},
   "source": [
    "### Python-dotenv\n",
    "Python-dotenv is a python module that allows you to specify environment variables as key value pairs in a .env file within your python project directory.It is a convinient and secure way to load and use environment variables in your application.We can have more than one API key and will save them all in .env.\n",
    "- In this project, we will have an API key for Google's GEMINI, another one for pinecone , Hugging Face and so on.\n",
    "- create an API Key to access google GEMINI models - [go here](https://aistudio.google.com/app/apikey) & copy the API KEY and save it to our .env file , which we will create.\n",
    "- let's load environment varaibles."
   ]
  },
  {
   "cell_type": "code",
   "execution_count": 5,
   "id": "cdc3d2e0",
   "metadata": {},
   "outputs": [
    {
     "data": {
      "text/plain": [
       "True"
      ]
     },
     "execution_count": 5,
     "metadata": {},
     "output_type": "execute_result"
    }
   ],
   "source": [
    "import os\n",
    "from dotenv import load_dotenv , find_dotenv\n",
    "# load the .env file\n",
    "load_dotenv(find_dotenv(),override=True)\n",
    "# to get the value of an environment variable\n",
    "# os.environ.get('GOOGLE_API_KEY') - display the key"
   ]
  },
  {
   "cell_type": "markdown",
   "id": "62c29215",
   "metadata": {},
   "source": [
    "- We know that langchain provides a standard interface for interacting with various LLMs, including openAI's GPT models , Google's GEMINI, Meta's LLAMA ..etc\n",
    "- In Langchain terminology these are called LLM providers.\n",
    "- `Let's see how to invoke the models like Google GEMINI.`\n",
    "- The models expose an interface where chat messages or conversations serve as inputs & outputs\n",
    "- refer this [documentation](https://ai.google.dev/gemini-api/docs) to understand more on what to use and how to use like chat-completions.\n",
    "- [Multi-turn conversation](https://ai.google.dev/gemini-api/docs/text-generation#multi-turn-conversations) & [system instructions](https://ai.google.dev/gemini-api/docs/text-generation#system-instructions) - System instructions let you steer the behavior of a model based on your specific use case. When you provide system instructions, you give the model additional context to help it understand the task and generate more customized responses. The model should adhere to the system instructions over the full interaction with the user, enabling you to specify product-level behavior separate from the prompts provided by end users.\n",
    "- from langchain we use [messages](https://python.langchain.com/api_reference/core/messages.html) - Messages are objects used in prompts and chat conversations.\n",
    "- like below:\n",
    "```py\n",
    "from langchain_core.messages import HumanMessage, SystemMessage\n",
    "messages = [\n",
    "    SystemMessage(\n",
    "        content=\"You are a helpful assistant! Your name is Bob.\"\n",
    "    ),\n",
    "    HumanMessage(\n",
    "        content=\"What is your name?\"\n",
    "    )\n",
    "]\n",
    "# Instantiate a chat model and invoke it with the messages\n",
    "model = ...\n",
    "print(model.invoke(messages))\n",
    "```"
   ]
  },
  {
   "cell_type": "code",
   "execution_count": 12,
   "id": "1c93ff60",
   "metadata": {},
   "outputs": [
    {
     "name": "stdout",
     "output_type": "stream",
     "text": [
      "Virat Kohli's batting style is characterized by his aggressive, yet technically sound approach, combining powerful strokeplay with exceptional running between the wickets and a relentless pursuit of excellence.\n"
     ]
    }
   ],
   "source": [
    "from langchain_google_genai import ChatGoogleGenerativeAI\n",
    "\n",
    "llm = ChatGoogleGenerativeAI(model=\"gemini-2.0-flash\")\n",
    "output = llm.invoke(\"explain virat kohli's batting style in one sentence\")\n",
    "print(output.content)"
   ]
  },
  {
   "cell_type": "code",
   "execution_count": 11,
   "id": "47710000",
   "metadata": {},
   "outputs": [],
   "source": [
    "# help(ChatGoogleGenerativeAI) \n",
    "# - gives whole documentation stuff on this library \n",
    "# like Help on class ChatGoogleGenerativeAI in module langchain_google_genai.chat_models: ....etc\n",
    "# we can see the default models and temparature and other parameters in the documentation is set to"
   ]
  },
  {
   "cell_type": "code",
   "execution_count": 15,
   "id": "078848e5",
   "metadata": {},
   "outputs": [
    {
     "data": {
      "text/plain": [
       "AIMessage(content='The capital of India is New Delhi.', additional_kwargs={}, response_metadata={'prompt_feedback': {'block_reason': 0, 'safety_ratings': []}, 'finish_reason': 'STOP', 'model_name': 'gemini-2.0-flash', 'safety_ratings': []}, id='run-94872e41-a6b2-4a51-b099-aaf00334c829-0', usage_metadata={'input_tokens': 12, 'output_tokens': 9, 'total_tokens': 21, 'input_token_details': {'cache_read': 0}})"
      ]
     },
     "execution_count": 15,
     "metadata": {},
     "output_type": "execute_result"
    }
   ],
   "source": [
    "from langchain_core.messages import HumanMessage,SystemMessage,AIMessage\n",
    "messages = [\n",
    "    SystemMessage(content=\"You are a helpful assistant\"),\n",
    "    HumanMessage(content=\"What is the capital of India?\")\n",
    "]\n",
    "llm.invoke(messages)\n",
    "# print(assistant_response)"
   ]
  },
  {
   "cell_type": "markdown",
   "id": "90a4e089",
   "metadata": {},
   "source": [
    "- so above we can see that we're passing how the LLM to behave by using Messages(AI,System,Human) to let llm understand what it needs to do and respond accordingly.\n",
    "- [SystemMessage](https://python.langchain.com/api_reference/core/messages/langchain_core.messages.system.SystemMessage.html) - Message for priming AI behavior. The system message is usually passed in as the first of a sequence of input messages.`Pass in content as positional arg.`\n",
    "- [HumanMessage](https://python.langchain.com/api_reference/core/messages/langchain_core.messages.human.HumanMessage.html) - Message from a human. HumanMessages are messages that are passed in from a human to the model.\n",
    "- [AIMessage](https://python.langchain.com/api_reference/core/messages/langchain_core.messages.ai.AIMessage.html) - Message from an AI.`AIMessage is returned from a chat model as a response to a prompt`.This message represents the output of the model and consists of both the raw output as returned by the model together standardized fields (e.g., tool calls, usage metadata) added by the LangChain framework.\n",
    "- this is how the `actual` assistant_response from above looks like which returns the AIMessage.\n",
    "```py\n",
    "AIMessage(content='The capital of India is New Delhi.', additional_kwargs={}, response_metadata={'prompt_feedback': {'block_reason': 0, 'safety_ratings': []}, 'finish_reason': 'STOP', 'model_name': 'gemini-2.0-flash', 'safety_ratings': []}, id='run-94872e41-a6b2-4a51-b099-aaf00334c829-0', usage_metadata={'input_tokens': 12, 'output_tokens': 9, 'total_tokens': 21, 'input_token_details': {'cache_read': 0}})\n",
    "\n",
    "```"
   ]
  },
  {
   "cell_type": "markdown",
   "id": "e9056318",
   "metadata": {},
   "source": [
    "### Caching in LangChain\n",
    "- we use caching in langchain to boost performance & save costs.\n",
    "    - Caching is the practice of storing frequently accessed data or results in a temporary, faster storage layer.\n",
    "    - In the context of LLM, Caching optimizes interactions with LLMs by reducing API calls and speeding up applications, resulting in a more efficient user experience.When you repeatedly request the same completion from an LLM, caching ensures that the result is stored locally.Subsequent requests for the same input can then be served directly from the cache, reducing the number of expensive API calls to the LLM provider.\n",
    "    - By avoiding redundant API calls, caching significantly speeds up your application, whether you are building chatbots,content generators or any other language related tools, faster-responses enhance the user experience.\n",
    "    - let's see how it's done in [langchain](https://python.langchain.com/api_reference/core/caches.html).which provides two options - 1-[in-memory cache](https://python.langchain.com/api_reference/core/caches/langchain_core.caches.InMemoryCache.html#langchain_core.caches.InMemoryCache) & 2-SQLlite-cache - [cache api reference](https://python.langchain.com/api_reference/langchain/globals.html) & we can find related examples in the official documentation on how to use this - [in our case](https://python.langchain.com/docs/how_to/llm_caching/)"
   ]
  },
  {
   "cell_type": "markdown",
   "id": "685399ac",
   "metadata": {},
   "source": [
    "#### In-Memory Cache"
   ]
  },
  {
   "cell_type": "code",
   "execution_count": 16,
   "id": "5e4957ad",
   "metadata": {},
   "outputs": [],
   "source": [
    "from langchain.globals import set_llm_cache\n",
    "from langchain_google_genai import ChatGoogleGenerativeAI\n",
    "llm_cache=ChatGoogleGenerativeAI(model=\"gemini-2.0-flash\")\n"
   ]
  },
  {
   "cell_type": "code",
   "execution_count": 18,
   "id": "3653f6e3",
   "metadata": {},
   "outputs": [
    {
     "name": "stdout",
     "output_type": "stream",
     "text": [
      "CPU times: total: 0 ns\n",
      "Wall time: 2.47 s\n"
     ]
    },
    {
     "data": {
      "text/plain": [
       "AIMessage(content='Why did the JavaScript developer quit their job and start learning Python?\\n\\nBecause they heard Python was great for \"Data Handling\" and they were tired of always having to deal with \"Undefined.\"', additional_kwargs={}, response_metadata={'prompt_feedback': {'block_reason': 0, 'safety_ratings': []}, 'finish_reason': 'STOP', 'model_name': 'gemini-2.0-flash', 'safety_ratings': []}, id='run-ae512894-2ea9-4c9b-8a4a-07aae309f658-0', usage_metadata={'input_tokens': 8, 'output_tokens': 39, 'total_tokens': 47, 'input_token_details': {'cache_read': 0}})"
      ]
     },
     "execution_count": 18,
     "metadata": {},
     "output_type": "execute_result"
    }
   ],
   "source": [
    "%%time \n",
    "# to check the time taken to run the code\n",
    "from langchain_core.caches import InMemoryCache #Cache that stores things in memory.\n",
    "set_llm_cache(InMemoryCache()) #set the cache to be in memory\n",
    "prompt= \"tell me a joke about python & javascript\"\n",
    "llm_cache.invoke(prompt)"
   ]
  },
  {
   "cell_type": "code",
   "execution_count": 20,
   "id": "a622efed",
   "metadata": {},
   "outputs": [
    {
     "name": "stdout",
     "output_type": "stream",
     "text": [
      "CPU times: total: 0 ns\n",
      "Wall time: 6.75 ms\n"
     ]
    },
    {
     "data": {
      "text/plain": [
       "AIMessage(content='Why did the JavaScript developer quit their job and start learning Python?\\n\\nBecause they heard Python was great for \"Data Handling\" and they were tired of always having to deal with \"Undefined.\"', additional_kwargs={}, response_metadata={'prompt_feedback': {'block_reason': 0, 'safety_ratings': []}, 'finish_reason': 'STOP', 'model_name': 'gemini-2.0-flash', 'safety_ratings': []}, id='run-ae512894-2ea9-4c9b-8a4a-07aae309f658-0', usage_metadata={'input_tokens': 8, 'output_tokens': 39, 'total_tokens': 47, 'input_token_details': {'cache_read': 0}})"
      ]
     },
     "execution_count": 20,
     "metadata": {},
     "output_type": "execute_result"
    }
   ],
   "source": [
    "%%time\n",
    "# let's make the same request again to check the memory cache\n",
    "llm_cache.invoke(prompt) # this time it will be faster as it is in memory cache"
   ]
  },
  {
   "cell_type": "markdown",
   "id": "9d30a8ce",
   "metadata": {},
   "source": [
    "- Above we can see the difference in time taken to run the code & how caching works to speed up the process.\n",
    "- let's see [SQLite](https://python.langchain.com/docs/how_to/llm_caching/#sqlite-cache) Caching"
   ]
  },
  {
   "cell_type": "code",
   "execution_count": 24,
   "id": "c3c1e538",
   "metadata": {},
   "outputs": [
    {
     "name": "stdout",
     "output_type": "stream",
     "text": [
      "CPU times: total: 15.6 ms\n",
      "Wall time: 5.47 s\n"
     ]
    },
    {
     "data": {
      "text/plain": [
       "AIMessage(content=\"Virat Kohli is an Indian international cricketer and former captain of the Indian national cricket team. He is widely regarded as one of the greatest batsmen of all time. Here's a breakdown of his key aspects:\\n\\n**Key Facts and Achievements:**\\n\\n*   **Full Name:** Virat Kohli\\n*   **Nickname:** Cheeku\\n*   **Date of Birth:** November 5, 1988\\n*   **Place of Birth:** Delhi, India\\n*   **Batting Style:** Right-handed\\n*   **Bowling Style:** Right-arm medium\\n*   **Role:** Top-order batsman\\n*   **Teams:** India, Royal Challengers Bangalore (IPL), Delhi (Domestic)\\n*   **Captaincy:** Former captain of the Indian national team across all formats.\\n*   **ICC Rankings:** Consistently ranked among the top batsmen in the world.\\n\\n**Major Achievements and Records:**\\n\\n*   **Most Runs in T20 Internationals:** He is the leading run-scorer in T20 International cricket.\\n*   **Most Centuries for India:** He has the second-most international centuries overall, behind Sachin Tendulkar.\\n*   **Fastest to 8,000, 9,000, 10,000, 11,000, and 12,000 ODI Runs:** Kohli holds the record for being the fastest to reach these milestones in One Day International (ODI) cricket.\\n*   **Captaincy Records:** As captain, he led India to the top of the ICC Test rankings and achieved significant success in ODI and T20I cricket. He is India's most successful Test captain.\\n*   **Awards:** Numerous awards including ICC ODI Player of the Year, Sir Garfield Sobers Trophy (ICC Cricketer of the Year), Arjuna Award, Padma Shri, and Rajiv Gandhi Khel Ratna (now Major Dhyan Chand Khel Ratna Award).\\n\\n**Playing Style and Strengths:**\\n\\n*   **Aggressive and Driven:** Kohli is known for his aggressive batting style and his intense passion for the game.\\n*   **Excellent Technique:** Possesses a solid technique that allows him to adapt to different formats and conditions.\\n*   **Consistent Run-Scorer:** Remarkably consistent across all formats of the game.\\n*   **Master of the Chase:** Renowned for his ability to chase down targets in limited-overs cricket.\\n*   **Fitness and Dedication:** Sets high standards for fitness and is known for his dedication to training.\\n\\n**Career Highlights:**\\n\\n*   **Under-19 World Cup Victory (2008):** Captained the Indian Under-19 team to victory in the 2008 World Cup.\\n*   **ODI Debut (2008):** Made his ODI debut for India against Sri Lanka.\\n*   **Test Debut (2011):** Made his Test debut for India against West Indies.\\n*   **World Cup Winner (2011):** Was part of the Indian team that won the 2011 Cricket World Cup.\\n*   **Champions Trophy Winner (2013):** Was part of the Indian team that won the 2013 ICC Champions Trophy.\\n\\n**Controversies:**\\n\\n*   Kohli has had his share of controversies, including on-field altercations and disagreements with cricket boards. However, he has generally matured over time.\\n\\n**Personal Life:**\\n\\n*   Married to Bollywood actress Anushka Sharma. They have a daughter named Vamika.\\n*   Known for his philanthropic work through the Virat Kohli Foundation.\\n\\n**Current Status:**\\n\\n*   Virat Kohli continues to be a key player for the Indian cricket team in all formats. While he has relinquished the captaincy, his experience and batting prowess remain invaluable. He still holds a very high profile in the sport.\\n\\nIn summary, Virat Kohli is a modern-day cricket icon known for his exceptional batting skills, aggressive leadership, and unwavering dedication to the game. His achievements and records speak for themselves, solidifying his place among the legends of cricket.\", additional_kwargs={}, response_metadata={'prompt_feedback': {'block_reason': 0, 'safety_ratings': []}, 'finish_reason': 'STOP', 'model_name': 'gemini-2.0-flash', 'safety_ratings': []}, id='run-f44c15cb-8bd8-4c6b-a848-15f7aaf01670-0', usage_metadata={'input_tokens': 7, 'output_tokens': 862, 'total_tokens': 869, 'input_token_details': {'cache_read': 0}})"
      ]
     },
     "execution_count": 24,
     "metadata": {},
     "output_type": "execute_result"
    }
   ],
   "source": [
    "%%time\n",
    "# We can do the same thing with a SQLite cache\n",
    "from langchain_community.cache import SQLiteCache\n",
    "\n",
    "set_llm_cache(SQLiteCache(database_path=\".langchain.db\"))\n",
    "# First request(not in cache, takes longer)\n",
    "llm_cache.invoke(\"Tell me about virat kohli\")"
   ]
  },
  {
   "cell_type": "code",
   "execution_count": 26,
   "id": "ddc16623",
   "metadata": {},
   "outputs": [
    {
     "name": "stdout",
     "output_type": "stream",
     "text": [
      "CPU times: total: 0 ns\n",
      "Wall time: 1.35 ms\n"
     ]
    },
    {
     "data": {
      "text/plain": [
       "AIMessage(content=\"Virat Kohli is an Indian international cricketer and former captain of the Indian national cricket team. He is widely regarded as one of the greatest batsmen of all time. Here's a breakdown of his key aspects:\\n\\n**Key Facts and Achievements:**\\n\\n*   **Full Name:** Virat Kohli\\n*   **Nickname:** Cheeku\\n*   **Date of Birth:** November 5, 1988\\n*   **Place of Birth:** Delhi, India\\n*   **Batting Style:** Right-handed\\n*   **Bowling Style:** Right-arm medium\\n*   **Role:** Top-order batsman\\n*   **Teams:** India, Royal Challengers Bangalore (IPL), Delhi (Domestic)\\n*   **Captaincy:** Former captain of the Indian national team across all formats.\\n*   **ICC Rankings:** Consistently ranked among the top batsmen in the world.\\n\\n**Major Achievements and Records:**\\n\\n*   **Most Runs in T20 Internationals:** He is the leading run-scorer in T20 International cricket.\\n*   **Most Centuries for India:** He has the second-most international centuries overall, behind Sachin Tendulkar.\\n*   **Fastest to 8,000, 9,000, 10,000, 11,000, and 12,000 ODI Runs:** Kohli holds the record for being the fastest to reach these milestones in One Day International (ODI) cricket.\\n*   **Captaincy Records:** As captain, he led India to the top of the ICC Test rankings and achieved significant success in ODI and T20I cricket. He is India's most successful Test captain.\\n*   **Awards:** Numerous awards including ICC ODI Player of the Year, Sir Garfield Sobers Trophy (ICC Cricketer of the Year), Arjuna Award, Padma Shri, and Rajiv Gandhi Khel Ratna (now Major Dhyan Chand Khel Ratna Award).\\n\\n**Playing Style and Strengths:**\\n\\n*   **Aggressive and Driven:** Kohli is known for his aggressive batting style and his intense passion for the game.\\n*   **Excellent Technique:** Possesses a solid technique that allows him to adapt to different formats and conditions.\\n*   **Consistent Run-Scorer:** Remarkably consistent across all formats of the game.\\n*   **Master of the Chase:** Renowned for his ability to chase down targets in limited-overs cricket.\\n*   **Fitness and Dedication:** Sets high standards for fitness and is known for his dedication to training.\\n\\n**Career Highlights:**\\n\\n*   **Under-19 World Cup Victory (2008):** Captained the Indian Under-19 team to victory in the 2008 World Cup.\\n*   **ODI Debut (2008):** Made his ODI debut for India against Sri Lanka.\\n*   **Test Debut (2011):** Made his Test debut for India against West Indies.\\n*   **World Cup Winner (2011):** Was part of the Indian team that won the 2011 Cricket World Cup.\\n*   **Champions Trophy Winner (2013):** Was part of the Indian team that won the 2013 ICC Champions Trophy.\\n\\n**Controversies:**\\n\\n*   Kohli has had his share of controversies, including on-field altercations and disagreements with cricket boards. However, he has generally matured over time.\\n\\n**Personal Life:**\\n\\n*   Married to Bollywood actress Anushka Sharma. They have a daughter named Vamika.\\n*   Known for his philanthropic work through the Virat Kohli Foundation.\\n\\n**Current Status:**\\n\\n*   Virat Kohli continues to be a key player for the Indian cricket team in all formats. While he has relinquished the captaincy, his experience and batting prowess remain invaluable. He still holds a very high profile in the sport.\\n\\nIn summary, Virat Kohli is a modern-day cricket icon known for his exceptional batting skills, aggressive leadership, and unwavering dedication to the game. His achievements and records speak for themselves, solidifying his place among the legends of cricket.\", additional_kwargs={}, response_metadata={'prompt_feedback': {'block_reason': 0, 'safety_ratings': []}, 'finish_reason': 'STOP', 'model_name': 'gemini-2.0-flash', 'safety_ratings': []}, id='run-f44c15cb-8bd8-4c6b-a848-15f7aaf01670-0', usage_metadata={'input_tokens': 7, 'output_tokens': 862, 'total_tokens': 869, 'input_token_details': {'cache_read': 0}})"
      ]
     },
     "execution_count": 26,
     "metadata": {},
     "output_type": "execute_result"
    }
   ],
   "source": [
    "%%time\n",
    "# Second request(in cache, takes no time)\n",
    "llm_cache.invoke(\"Tell me about virat kohli\")"
   ]
  },
  {
   "cell_type": "code",
   "execution_count": null,
   "id": "ccfaba8d",
   "metadata": {},
   "outputs": [],
   "source": []
  }
 ],
 "metadata": {
  "kernelspec": {
   "display_name": "env",
   "language": "python",
   "name": "python3"
  },
  "language_info": {
   "codemirror_mode": {
    "name": "ipython",
    "version": 3
   },
   "file_extension": ".py",
   "mimetype": "text/x-python",
   "name": "python",
   "nbconvert_exporter": "python",
   "pygments_lexer": "ipython3",
   "version": "3.11.9"
  }
 },
 "nbformat": 4,
 "nbformat_minor": 5
}
